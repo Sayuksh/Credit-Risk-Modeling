{
 "cells": [
  {
   "cell_type": "code",
   "execution_count": null,
   "id": "7ac26b57-aa13-48af-a4ce-fd2cf291a7cd",
   "metadata": {},
   "outputs": [],
   "source": [
    "import numpy as np\n",
    "import pandas as pd\n",
    "import matplotlib.pyplot as plt\n",
    "import seaborn as sns\n",
    "import pandas as pd\n"
   ]
  },
  {
   "cell_type": "code",
   "execution_count": null,
   "id": "6121ecbf-3799-4de7-963b-b90e78b659bf",
   "metadata": {},
   "outputs": [],
   "source": [
    "data1=pd.read_csv(\"credit_record.csv\")\n",
    "data2=pd.read_csv(\"application_record.csv\")"
   ]
  },
  {
   "cell_type": "code",
   "execution_count": null,
   "id": "655d7d09-72ce-428b-81a0-a0fbc8f7665e",
   "metadata": {},
   "outputs": [],
   "source": [
    "data=pd.merge(data1,data2, on=\"ID\")\n",
    "data.head()"
   ]
  },
  {
   "cell_type": "code",
   "execution_count": null,
   "id": "970f6c8b-62d1-4b74-ae06-963472c94681",
   "metadata": {
    "scrolled": true
   },
   "outputs": [],
   "source": [
    "data.info()"
   ]
  },
  {
   "cell_type": "code",
   "execution_count": null,
   "id": "00dd5dd6-5f8c-42c9-8bf8-763ee6d8c99b",
   "metadata": {},
   "outputs": [],
   "source": [
    "print(data[\"NAME_INCOME_TYPE\"].unique(),  data[\"NAME_EDUCATION_TYPE\"].unique(),data[\"NAME_FAMILY_STATUS\"].unique() ,data[\"NAME_HOUSING_TYPE\"].unique())"
   ]
  },
  {
   "cell_type": "code",
   "execution_count": null,
   "id": "98f02133-e411-4d6e-ad1f-2cf0a4edda70",
   "metadata": {},
   "outputs": [],
   "source": [
    "data=data.drop(columns=\"OCCUPATION_TYPE\",axis=1)"
   ]
  },
  {
   "cell_type": "code",
   "execution_count": null,
   "id": "dd49c2dd-77ad-4b7b-97e2-1a47e10fad94",
   "metadata": {},
   "outputs": [],
   "source": [
    "data"
   ]
  },
  {
   "cell_type": "code",
   "execution_count": null,
   "id": "7789f286-1d37-47c3-8edd-0d36b81f377c",
   "metadata": {
    "scrolled": true
   },
   "outputs": [],
   "source": [
    "import plotly.express as px\n",
    "data_ge = data[data[\"CODE_GENDER\"] == \"F\"]\n",
    "data_ge = data_ge[data_ge[\"FLAG_OWN_CAR\"] != \"Y\"]\n",
    "data_ge = data_ge[data_ge[\"AMT_INCOME_TOTAL\"] > 50000]\n",
    "\n",
    "fig = px.scatter(data_ge, x=\"AMT_INCOME_TOTAL\", y=\"DAYS_BIRTH\", color=\"DAYS_BIRTH\", size=\"AMT_INCOME_TOTAL\",\n",
    "                 hover_data=[\"FLAG_OWN_CAR\", \"CODE_GENDER\"], size_max=30, title=\"FEMALE INCOMEvs. Days Away from birthday\")\n",
    "fig.show()"
   ]
  },
  {
   "cell_type": "code",
   "execution_count": null,
   "id": "102101db-d9bc-4e69-bc12-48210a5bfc9b",
   "metadata": {},
   "outputs": [],
   "source": [
    "data_ge = data_ge[data_ge[\"AMT_INCOME_TOTAL\"] > 50000]\n",
    "data_ge = data_ge[data_ge[\"CNT_FAM_MEMBERS\"] > 1]\n",
    "\n",
    "fig = px.scatter(data_ge, x=\"AMT_INCOME_TOTAL\", y=\"CNT_FAM_MEMBERS\", color=\"CNT_FAM_MEMBERS\", size=\"AMT_INCOME_TOTAL\",\n",
    "                 hover_data=[\"CNT_FAM_MEMBERS\", \"CODE_GENDER\"], size_max=50, title=\"INCOME vs. FAMILY SIZE\")\n",
    "fig.show()"
   ]
  },
  {
   "cell_type": "code",
   "execution_count": null,
   "id": "7ce9e671-7c06-4086-a5ac-2e45f53c98a2",
   "metadata": {},
   "outputs": [],
   "source": [
    "data_ge = data[data[\"CODE_GENDER\"] == \"M\"]\n",
    "data_ge = data_ge[data_ge[\"FLAG_OWN_CAR\"] != \"Y\"]\n",
    "data_ge = data_ge[data_ge[\"AMT_INCOME_TOTAL\"] > 50000]\n",
    "\n",
    "fig = px.scatter(data_ge, x=\"AMT_INCOME_TOTAL\", y=\"DAYS_BIRTH\", color=\"DAYS_BIRTH\", size=\"AMT_INCOME_TOTAL\",\n",
    "                 hover_data=[\"FLAG_OWN_CAR\", \"CODE_GENDER\"], size_max=30, title=\"MALE INCOME vs. AGE\")\n",
    "fig.show()"
   ]
  },
  {
   "cell_type": "code",
   "execution_count": null,
   "id": "50d0cca4-4094-459b-931e-79d557523e6f",
   "metadata": {
    "scrolled": true
   },
   "outputs": [],
   "source": [
    "data_ge = data_ge[data_ge[\"AMT_INCOME_TOTAL\"] > 50000]\n",
    "data_ge = data_ge[data_ge[\"CNT_FAM_MEMBERS\"] > 1]\n",
    "\n",
    "fig = px.scatter(data_ge, x=\"AMT_INCOME_TOTAL\", y=\"CNT_FAM_MEMBERS\", color=\"CNT_FAM_MEMBERS\", size=\"AMT_INCOME_TOTAL\",\n",
    "                 hover_data=[\"CNT_FAM_MEMBERS\", \"CODE_GENDER\"], size_max=50, title=\"INCOME vs. FAMILY SIZE\")\n",
    "fig.show()"
   ]
  },
  {
   "cell_type": "code",
   "execution_count": null,
   "id": "f5232a57-54e3-44c2-96ee-03f80f89a3cc",
   "metadata": {},
   "outputs": [],
   "source": [
    "data[\"CODE_GENDER\"] = data[\"CODE_GENDER\"].apply(lambda x: 1 if x == \"F\" else 0)\n",
    "data[\"FLAG_OWN_CAR\"] = data[\"FLAG_OWN_CAR\"].apply(lambda x: True if x == \"Y\" else False)\n",
    "data[\"FLAG_OWN_REALTY\"] = data[\"FLAG_OWN_REALTY\"].apply(lambda x: True if x == \"Y\" else False)\n",
    "\n",
    "# Encode education types\n",
    "education_mapping = {\n",
    "    \"Incomplete higher\": 1,\n",
    "    \"Higher education\": 2,\n",
    "    \"Lower secondary\": 3,\n",
    "    \"Secondary / secondary special\": 4\n",
    "}\n",
    "data[\"NAME_EDUCATION_TYPE\"] = data[\"NAME_EDUCATION_TYPE\"].map(education_mapping).fillna(5).astype(int)\n",
    "data= pd.get_dummies(data, columns = [\"NAME_INCOME_TYPE\", \"NAME_FAMILY_STATUS\",\"NAME_HOUSING_TYPE\"])\n",
    "data=data.drop(columns=[\"NAME_HOUSING_TYPE_With parents\",\"NAME_INCOME_TYPE_Student\",\"NAME_FAMILY_STATUS_Widow\"])"
   ]
  },
  {
   "cell_type": "code",
   "execution_count": null,
   "id": "09073166-d9ec-4cae-8da4-2598b640771b",
   "metadata": {},
   "outputs": [],
   "source": [
    "y = data[\"STATUS\"]\n",
    "data=data.drop(columns=[\"STATUS\"])"
   ]
  },
  {
   "cell_type": "code",
   "execution_count": null,
   "id": "8547a18d-24f7-49d4-a6f4-46f7610be01c",
   "metadata": {},
   "outputs": [],
   "source": [
    "from sklearn.model_selection import train_test_split\n",
    "from sklearn.metrics import classification_report, accuracy_score\n",
    "from sklearn.preprocessing import LabelEncoder\n",
    "y = y.astype(str)\n",
    "label_encoder = LabelEncoder()\n",
    "y_encoded = label_encoder.fit_transform(y) \n",
    "train_data,test_data,y_train,y_test=train_test_split(data,y,test_size=0.3,random_state=42,shuffle=True)"
   ]
  },
  {
   "cell_type": "markdown",
   "id": "a8995b75-c452-4c0e-b931-fb4e762cc047",
   "metadata": {},
   "source": [
    "## Decision Tree"
   ]
  },
  {
   "cell_type": "code",
   "execution_count": null,
   "id": "9c8092c1-d5d7-40ec-9fad-d8bf75cba695",
   "metadata": {},
   "outputs": [],
   "source": [
    "from sklearn.tree import DecisionTreeClassifier\n",
    "clf = DecisionTreeClassifier(random_state=0)\n",
    "clf.fit(train_data,y_train)"
   ]
  },
  {
   "cell_type": "code",
   "execution_count": null,
   "id": "1fa17fb6-def4-4cdf-af83-66235bebb822",
   "metadata": {},
   "outputs": [],
   "source": [
    "y_pred = clf.predict(test_data)\n",
    "decision_accuracy = accuracy_score(y_test, y_pred)\n",
    "decision_report = classification_report(y_test, y_pred, target_names=label_encoder.classes_)"
   ]
  },
  {
   "cell_type": "code",
   "execution_count": null,
   "id": "d3c19f7b-1384-48d8-aaf3-b6e92a617238",
   "metadata": {
    "scrolled": true
   },
   "outputs": [],
   "source": [
    "print(decision_accuracy)\n",
    "print(decision_report)"
   ]
  },
  {
   "cell_type": "markdown",
   "id": "cd39ecda-5f8c-4d06-8603-f2819559e13a",
   "metadata": {},
   "source": [
    "# Random Forest "
   ]
  },
  {
   "cell_type": "code",
   "execution_count": null,
   "id": "e86c8bfb-e2b2-4c38-8f89-363a7ced34e1",
   "metadata": {},
   "outputs": [],
   "source": [
    "from sklearn.ensemble import RandomForestClassifier\n",
    "clf = RandomForestClassifier(n_estimators=100)\n",
    "clf.fit(train_data,y_train)\n",
    "y_pred=clf.predict(test_data)\n",
    "RF_accuracy = accuracy_score(y_test, y_pred)\n",
    "RF_report = classification_report(y_test, y_pred, target_names=label_encoder.classes_)"
   ]
  },
  {
   "cell_type": "markdown",
   "id": "f6827a94-ec02-4150-8fd7-8eda03eb64fe",
   "metadata": {},
   "source": [
    "# XGBOOST"
   ]
  },
  {
   "cell_type": "code",
   "execution_count": null,
   "id": "d3f54b3e-926c-4ee5-bcb6-a6aac72f3214",
   "metadata": {},
   "outputs": [],
   "source": [
    "def convert(x):\n",
    "    if x==\"C\":\n",
    "        return 6\n",
    "    elif x==\"X\":\n",
    "        return 7\n",
    "    else:\n",
    "        return int(x)\n",
    "y_train=y_train.apply(convert)\n",
    "y_test=y_test.apply(convert) \n",
    "from xgboost import XGBClassifier\n",
    "xgb_clf = XGBClassifier(objective='multi:softmax', num_class=len(label_encoder.classes_), random_state=42)\n",
    "xgb_clf.fit(train_data, y_train)\n",
    "y_pred = xgb_clf.predict(test_data)\n",
    "target_names = [str(cls) for cls in label_encoder.classes_]\n",
    "\n",
    "# Calculate accuracy and generate classification report\n",
    "xgb_accuracy = accuracy_score(y_test_encoded, y_pred)\n",
    "xgb_report = classification_report(y_test_encoded, y_pred, target_names=target_names)"
   ]
  },
  {
   "cell_type": "markdown",
   "id": "bc0f7c5a-8e58-4138-a828-53b5b961f7f4",
   "metadata": {},
   "source": [
    "# Linear Discriminant Analysis"
   ]
  },
  {
   "cell_type": "code",
   "execution_count": null,
   "id": "53936883-3817-4bbb-ace7-9ed069c8f58e",
   "metadata": {},
   "outputs": [],
   "source": [
    "from sklearn.discriminant_analysis import LinearDiscriminantAnalysis\n",
    "lda_clf = LinearDiscriminantAnalysis()\n",
    "\n",
    "# Train the model\n",
    "lda_clf.fit(train_data, y_train)\n",
    "\n",
    "# Make predictions on the test data\n",
    "y_pred = lda_clf.predict(test_data)\n",
    "print(np.unique(y_pred))\n",
    "\n",
    "# Evaluate the model\n",
    "lda_accuracy = accuracy_score(y_test, y_pred)\n",
    "lda_report = classification_report(y_test, y_pred, target_names=label_encoder.classes_)\n"
   ]
  },
  {
   "cell_type": "code",
   "execution_count": null,
   "id": "f9cd6006-35da-4124-b006-4f07ef24be84",
   "metadata": {},
   "outputs": [],
   "source": [
    "plt.plot([\"Decision Tree\",\"Random Forest\", \"XGBOOST\", \"Linear Discriminant Analysis\"],[decision_accuracy,RF_accuracy,xgb_accuracy,lda_accuracy])"
   ]
  },
  {
   "cell_type": "code",
   "execution_count": null,
   "id": "b8041d87-3328-4529-8f9c-a1704fe6998f",
   "metadata": {},
   "outputs": [],
   "source": []
  },
  {
   "cell_type": "code",
   "execution_count": null,
   "id": "7e3f9193-ef50-499f-8a96-b6eab6b101f3",
   "metadata": {},
   "outputs": [],
   "source": []
  },
  {
   "cell_type": "code",
   "execution_count": null,
   "id": "d4294e65-3a6d-498d-88c5-0daed4ca0115",
   "metadata": {},
   "outputs": [],
   "source": []
  },
  {
   "cell_type": "code",
   "execution_count": null,
   "id": "de2011f1-6e4f-479c-b25c-2ec4923391bf",
   "metadata": {},
   "outputs": [],
   "source": []
  },
  {
   "cell_type": "code",
   "execution_count": null,
   "id": "bb00aca9-fc9c-4db5-be45-dc04459f4ff4",
   "metadata": {},
   "outputs": [],
   "source": []
  },
  {
   "cell_type": "code",
   "execution_count": null,
   "id": "ed4490b0-42cf-4669-a2ed-b366bd579ce3",
   "metadata": {},
   "outputs": [],
   "source": []
  }
 ],
 "metadata": {
  "kernelspec": {
   "display_name": "Python 3 (ipykernel)",
   "language": "python",
   "name": "python3"
  },
  "language_info": {
   "codemirror_mode": {
    "name": "ipython",
    "version": 3
   },
   "file_extension": ".py",
   "mimetype": "text/x-python",
   "name": "python",
   "nbconvert_exporter": "python",
   "pygments_lexer": "ipython3",
   "version": "3.9.19"
  }
 },
 "nbformat": 4,
 "nbformat_minor": 5
}
