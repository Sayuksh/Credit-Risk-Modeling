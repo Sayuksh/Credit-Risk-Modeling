{
 "cells": [
  {
   "cell_type": "markdown",
   "id": "e83499bc",
   "metadata": {
    "papermill": {
     "duration": 0.025898,
     "end_time": "2024-04-22T12:18:34.903758",
     "exception": false,
     "start_time": "2024-04-22T12:18:34.877860",
     "status": "completed"
    },
    "tags": []
   },
   "source": [
    "### Data overview"
   ]
  },
  {
   "cell_type": "code",
   "execution_count": null,
   "id": "f7a1ec22",
   "metadata": {
    "papermill": {
     "duration": 2.360448,
     "end_time": "2024-04-22T12:18:37.290168",
     "exception": false,
     "start_time": "2024-04-22T12:18:34.929720",
     "status": "completed"
    },
    "tags": []
   },
   "outputs": [],
   "source": [
    "# importing library\n",
    "import matplotlib.pyplot as plt\n",
    "import seaborn as sns\n",
    "import plotly.express as px\n",
    "from datetime import datetime\n",
    "import pandas as pd\n",
    "from sklearn.preprocessing import LabelEncoder\n",
    "from imblearn.over_sampling import SMOTE\n",
    "from sklearn.model_selection import train_test_split\n",
    "from sklearn.preprocessing import PowerTransformer\n",
    "from sklearn.preprocessing import StandardScaler\n",
    "from sklearn.ensemble import RandomForestClassifier\n",
    "from sklearn.linear_model import LogisticRegression\n",
    "from sklearn.metrics import classification_report, accuracy_score, confusion_matrix,f1_score\n",
    "from xgboost import XGBClassifier\n"
   ]
  },
  {
   "cell_type": "code",
   "execution_count": null,
   "id": "51365046",
   "metadata": {
    "papermill": {
     "duration": 2.075189,
     "end_time": "2024-04-22T12:18:39.392694",
     "exception": false,
     "start_time": "2024-04-22T12:18:37.317505",
     "status": "completed"
    },
    "tags": []
   },
   "outputs": [],
   "source": [
    "# loading data\n",
    "df_application = pd.read_csv(r'Dataset 1\\application_record.csv')\n",
    "df_credit = pd.read_csv(r'Dataset 1\\credit_record.csv')"
   ]
  },
  {
   "cell_type": "code",
   "execution_count": null,
   "id": "d3efc69a",
   "metadata": {
    "papermill": {
     "duration": 0.07537,
     "end_time": "2024-04-22T12:18:39.495676",
     "exception": false,
     "start_time": "2024-04-22T12:18:39.420306",
     "status": "completed"
    },
    "tags": []
   },
   "outputs": [],
   "source": [
    "df_application.sample(5)"
   ]
  },
  {
   "cell_type": "code",
   "execution_count": null,
   "id": "6bf57b29",
   "metadata": {
    "papermill": {
     "duration": 0.078457,
     "end_time": "2024-04-22T12:18:39.603255",
     "exception": false,
     "start_time": "2024-04-22T12:18:39.524798",
     "status": "completed"
    },
    "tags": []
   },
   "outputs": [],
   "source": [
    "df_credit.sample(5)"
   ]
  },
  {
   "cell_type": "code",
   "execution_count": null,
   "id": "9654f298",
   "metadata": {
    "papermill": {
     "duration": 0.386818,
     "end_time": "2024-04-22T12:18:40.022193",
     "exception": false,
     "start_time": "2024-04-22T12:18:39.635375",
     "status": "completed"
    },
    "tags": []
   },
   "outputs": [],
   "source": [
    "df_application.info()"
   ]
  },
  {
   "cell_type": "code",
   "execution_count": null,
   "id": "61b20159",
   "metadata": {
    "papermill": {
     "duration": 0.136236,
     "end_time": "2024-04-22T12:18:40.186900",
     "exception": false,
     "start_time": "2024-04-22T12:18:40.050664",
     "status": "completed"
    },
    "tags": []
   },
   "outputs": [],
   "source": [
    "df_credit.info()"
   ]
  },
  {
   "cell_type": "code",
   "execution_count": null,
   "id": "de57d1f3",
   "metadata": {
    "papermill": {
     "duration": 0.035117,
     "end_time": "2024-04-22T12:18:40.250505",
     "exception": false,
     "start_time": "2024-04-22T12:18:40.215388",
     "status": "completed"
    },
    "tags": []
   },
   "outputs": [],
   "source": [
    "df_application.shape"
   ]
  },
  {
   "cell_type": "code",
   "execution_count": null,
   "id": "4ffe9190",
   "metadata": {
    "papermill": {
     "duration": 0.035982,
     "end_time": "2024-04-22T12:18:40.363410",
     "exception": false,
     "start_time": "2024-04-22T12:18:40.327428",
     "status": "completed"
    },
    "tags": []
   },
   "outputs": [],
   "source": [
    "df_credit.shape"
   ]
  },
  {
   "cell_type": "code",
   "execution_count": null,
   "id": "76ea2726",
   "metadata": {
    "papermill": {
     "duration": 0.351271,
     "end_time": "2024-04-22T12:18:40.742247",
     "exception": false,
     "start_time": "2024-04-22T12:18:40.390976",
     "status": "completed"
    },
    "tags": []
   },
   "outputs": [],
   "source": [
    "# df = pd.merge(df_application, df_credit, on='ID',how='left')\n",
    "# mreging data\n",
    "df = pd.merge(df_application, df_credit, on='ID', how='inner')"
   ]
  },
  {
   "cell_type": "code",
   "execution_count": null,
   "id": "e975735d",
   "metadata": {
    "papermill": {
     "duration": 0.053736,
     "end_time": "2024-04-22T12:18:40.823974",
     "exception": false,
     "start_time": "2024-04-22T12:18:40.770238",
     "status": "completed"
    },
    "tags": []
   },
   "outputs": [],
   "source": [
    "df"
   ]
  },
  {
   "cell_type": "code",
   "execution_count": null,
   "id": "f4fab146",
   "metadata": {
    "papermill": {
     "duration": 0.035799,
     "end_time": "2024-04-22T12:18:40.887428",
     "exception": false,
     "start_time": "2024-04-22T12:18:40.851629",
     "status": "completed"
    },
    "tags": []
   },
   "outputs": [],
   "source": [
    "print('Application Record data shape: ',df_application.shape)\n",
    "print('Credit Record data shape: ',df_credit.shape)\n",
    "print('Merged data shape: ',df.shape)"
   ]
  },
  {
   "cell_type": "code",
   "execution_count": null,
   "id": "a47b17d9",
   "metadata": {
    "papermill": {
     "duration": 0.661113,
     "end_time": "2024-04-22T12:18:41.576879",
     "exception": false,
     "start_time": "2024-04-22T12:18:40.915766",
     "status": "completed"
    },
    "tags": []
   },
   "outputs": [],
   "source": [
    "df.info()"
   ]
  },
  {
   "cell_type": "code",
   "execution_count": null,
   "id": "f82f7260",
   "metadata": {
    "papermill": {
     "duration": 0.778192,
     "end_time": "2024-04-22T12:18:42.384976",
     "exception": false,
     "start_time": "2024-04-22T12:18:41.606784",
     "status": "completed"
    },
    "tags": []
   },
   "outputs": [],
   "source": [
    "# checking duplicate value\n",
    "df.duplicated().sum()"
   ]
  },
  {
   "cell_type": "code",
   "execution_count": null,
   "id": "311b2f0f",
   "metadata": {
    "papermill": {
     "duration": 0.65104,
     "end_time": "2024-04-22T12:18:43.064242",
     "exception": false,
     "start_time": "2024-04-22T12:18:42.413202",
     "status": "completed"
    },
    "tags": []
   },
   "outputs": [],
   "source": [
    "# checking null value\n",
    "df.isnull().sum()"
   ]
  },
  {
   "cell_type": "code",
   "execution_count": null,
   "id": "00b5e041",
   "metadata": {
    "papermill": {
     "duration": 0.655307,
     "end_time": "2024-04-22T12:18:43.748155",
     "exception": false,
     "start_time": "2024-04-22T12:18:43.092848",
     "status": "completed"
    },
    "tags": []
   },
   "outputs": [],
   "source": [
    "df.isnull().sum()/df.shape[0]*100"
   ]
  },
  {
   "cell_type": "code",
   "execution_count": null,
   "id": "69c36c44",
   "metadata": {
    "papermill": {
     "duration": 0.116499,
     "end_time": "2024-04-22T12:18:43.894184",
     "exception": false,
     "start_time": "2024-04-22T12:18:43.777685",
     "status": "completed"
    },
    "tags": []
   },
   "outputs": [],
   "source": [
    "df[\"OCCUPATION_TYPE\"].value_counts()"
   ]
  },
  {
   "cell_type": "code",
   "execution_count": null,
   "id": "fd5fcde4",
   "metadata": {
    "papermill": {
     "duration": 0.076058,
     "end_time": "2024-04-22T12:18:43.998911",
     "exception": false,
     "start_time": "2024-04-22T12:18:43.922853",
     "status": "completed"
    },
    "scrolled": true,
    "tags": []
   },
   "outputs": [],
   "source": [
    "df[\"OCCUPATION_TYPE\"].unique()"
   ]
  },
  {
   "cell_type": "code",
   "execution_count": null,
   "id": "1e756434",
   "metadata": {
    "papermill": {
     "duration": 0.766048,
     "end_time": "2024-04-22T12:18:44.793583",
     "exception": false,
     "start_time": "2024-04-22T12:18:44.027535",
     "status": "completed"
    },
    "tags": []
   },
   "outputs": [],
   "source": [
    "# dropping null value \n",
    "df.dropna(inplace=True)"
   ]
  },
  {
   "cell_type": "code",
   "execution_count": null,
   "id": "7b00c1e8",
   "metadata": {
    "papermill": {
     "duration": 0.038536,
     "end_time": "2024-04-22T12:18:44.861894",
     "exception": false,
     "start_time": "2024-04-22T12:18:44.823358",
     "status": "completed"
    },
    "tags": []
   },
   "outputs": [],
   "source": [
    "df.shape"
   ]
  },
  {
   "cell_type": "code",
   "execution_count": null,
   "id": "0961333e",
   "metadata": {
    "papermill": {
     "duration": 0.483752,
     "end_time": "2024-04-22T12:18:45.374189",
     "exception": false,
     "start_time": "2024-04-22T12:18:44.890437",
     "status": "completed"
    },
    "tags": []
   },
   "outputs": [],
   "source": [
    "# checking data after dropping null value\n",
    "df.info()"
   ]
  },
  {
   "cell_type": "code",
   "execution_count": null,
   "id": "04c6c266",
   "metadata": {
    "papermill": {
     "duration": 0.281919,
     "end_time": "2024-04-22T12:18:45.686977",
     "exception": false,
     "start_time": "2024-04-22T12:18:45.405058",
     "status": "completed"
    },
    "tags": []
   },
   "outputs": [],
   "source": [
    "df.describe().T.style.background_gradient(cmap='YlOrRd')"
   ]
  },
  {
   "cell_type": "markdown",
   "id": "abcc8c79",
   "metadata": {
    "papermill": {
     "duration": 0.029192,
     "end_time": "2024-04-22T12:18:45.747971",
     "exception": false,
     "start_time": "2024-04-22T12:18:45.718779",
     "status": "completed"
    },
    "tags": []
   },
   "source": [
    "# EDA"
   ]
  },
  {
   "cell_type": "code",
   "execution_count": null,
   "id": "9df7db94",
   "metadata": {
    "papermill": {
     "duration": 1.024369,
     "end_time": "2024-04-22T12:18:46.801718",
     "exception": false,
     "start_time": "2024-04-22T12:18:45.777349",
     "status": "completed"
    },
    "tags": []
   },
   "outputs": [],
   "source": [
    "# correlation matrix\n",
    "plt.figure(figsize=(25,8))\n",
    "sns.heatmap(df.select_dtypes(exclude='object').corr(),annot=True)"
   ]
  },
  {
   "cell_type": "code",
   "execution_count": null,
   "id": "78158552",
   "metadata": {
    "papermill": {
     "duration": 0.103336,
     "end_time": "2024-04-22T12:18:46.936656",
     "exception": false,
     "start_time": "2024-04-22T12:18:46.833320",
     "status": "completed"
    },
    "tags": []
   },
   "outputs": [],
   "source": [
    "df[\"CODE_GENDER\"].value_counts()"
   ]
  },
  {
   "cell_type": "code",
   "execution_count": null,
   "id": "a0c58cdb",
   "metadata": {
    "papermill": {
     "duration": 0.239834,
     "end_time": "2024-04-22T12:18:47.207913",
     "exception": false,
     "start_time": "2024-04-22T12:18:46.968079",
     "status": "completed"
    },
    "tags": []
   },
   "outputs": [],
   "source": [
    "Categorical=df.select_dtypes(include='object').columns.tolist()\n",
    "Categorical"
   ]
  },
  {
   "cell_type": "code",
   "execution_count": null,
   "id": "deeba2fd",
   "metadata": {
    "papermill": {
     "duration": 0.103389,
     "end_time": "2024-04-22T12:18:47.343207",
     "exception": false,
     "start_time": "2024-04-22T12:18:47.239818",
     "status": "completed"
    },
    "tags": []
   },
   "outputs": [],
   "source": [
    "df[\"FLAG_OWN_CAR\"].value_counts()"
   ]
  },
  {
   "cell_type": "code",
   "execution_count": null,
   "id": "8028a7fd",
   "metadata": {
    "papermill": {
     "duration": 0.048966,
     "end_time": "2024-04-22T12:18:47.427933",
     "exception": false,
     "start_time": "2024-04-22T12:18:47.378967",
     "status": "completed"
    },
    "tags": []
   },
   "outputs": [],
   "source": [
    "# df[\"FLAG_OWN_CAR\"].value_counts()"
   ]
  },
  {
   "cell_type": "code",
   "execution_count": null,
   "id": "bd98b57d",
   "metadata": {
    "papermill": {
     "duration": 0.767388,
     "end_time": "2024-04-22T12:18:48.227317",
     "exception": false,
     "start_time": "2024-04-22T12:18:47.459929",
     "status": "completed"
    },
    "tags": []
   },
   "outputs": [],
   "source": [
    "fig, axes = plt.subplots(1,3)\n",
    "colors = ['#ff9999', '#66b3ff']\n",
    "\n",
    "g1= df['CODE_GENDER'].value_counts().plot.pie(explode=[0,0.1], ax=axes[0], colors=colors, shadow=True)\n",
    "g1.set_title(\"Customer Distribution by Gender\")\n",
    "\n",
    "g2= df['FLAG_OWN_CAR'].value_counts().plot.pie(explode=[0,0.1], ax=axes[1],   colors=colors, shadow=True)\n",
    "g2.set_title(\"Car Ownership\")\n",
    "\n",
    "g3= df['FLAG_OWN_REALTY'].value_counts().plot.pie(explode=[0,0.1], ax=axes[2],   colors=colors, shadow=True)\n",
    "g3.set_title(\"Realty Ownership\")\n",
    "\n",
    "fig.set_size_inches(14,5)\n",
    "\n",
    "plt.tight_layout()\n",
    "\n",
    "plt.show()"
   ]
  },
  {
   "cell_type": "code",
   "execution_count": null,
   "id": "0fd8e407",
   "metadata": {
    "papermill": {
     "duration": 0.040364,
     "end_time": "2024-04-22T12:18:48.301887",
     "exception": false,
     "start_time": "2024-04-22T12:18:48.261523",
     "status": "completed"
    },
    "tags": []
   },
   "outputs": [],
   "source": [
    "import plotly.express as px\n",
    "df_ge = df[df[\"CODE_GENDER\"] == \"F\"]\n",
    "df_ge = df_ge[df_ge[\"FLAG_OWN_CAR\"] != \"Y\"]\n",
    "df_ge = df_ge[df_ge[\"AMT_INCOME_TOTAL\"] > 50000]\n",
    "\n",
    "fig = px.scatter(df_ge, x=\"AMT_INCOME_TOTAL\", y=\"DAYS_BIRTH\", color=\"DAYS_BIRTH\", size=\"AMT_INCOME_TOTAL\",\n",
    "                 hover_data=[\"FLAG_OWN_CAR\", \"CODE_GENDER\"], size_max=30, title=\"FEMALE INCOME vs. AGE\")\n",
    "fig.show()"
   ]
  },
  {
   "cell_type": "code",
   "execution_count": null,
   "id": "4b860317",
   "metadata": {
    "papermill": {
     "duration": 0.04009,
     "end_time": "2024-04-22T12:18:48.374399",
     "exception": false,
     "start_time": "2024-04-22T12:18:48.334309",
     "status": "completed"
    },
    "tags": []
   },
   "outputs": [],
   "source": [
    "df_ge = df_ge[df_ge[\"AMT_INCOME_TOTAL\"] > 50000]\n",
    "df_ge = df_ge[df_ge[\"CNT_FAM_MEMBERS\"] > 1]\n",
    "\n",
    "fig = px.scatter(df_ge, x=\"AMT_INCOME_TOTAL\", y=\"CNT_FAM_MEMBERS\", color=\"CNT_FAM_MEMBERS\", size=\"AMT_INCOME_TOTAL\",\n",
    "                 hover_data=[\"CNT_FAM_MEMBERS\", \"CODE_GENDER\"], size_max=50, title=\"INCOME vs. FAMILY SIZE\")\n",
    "fig.show()"
   ]
  },
  {
   "cell_type": "code",
   "execution_count": null,
   "id": "f0bd6cb3",
   "metadata": {
    "papermill": {
     "duration": 0.040019,
     "end_time": "2024-04-22T12:18:48.452050",
     "exception": false,
     "start_time": "2024-04-22T12:18:48.412031",
     "status": "completed"
    },
    "tags": []
   },
   "outputs": [],
   "source": [
    "df_ge = df[df[\"CODE_GENDER\"] == \"M\"]\n",
    "df_ge = df_ge[df_ge[\"FLAG_OWN_CAR\"] != \"Y\"]\n",
    "df_ge = df_ge[df_ge[\"AMT_INCOME_TOTAL\"] > 50000]\n",
    "\n",
    "fig = px.scatter(df_ge, x=\"AMT_INCOME_TOTAL\", y=\"DAYS_BIRTH\", color=\"DAYS_BIRTH\", size=\"AMT_INCOME_TOTAL\",\n",
    "                 hover_data=[\"FLAG_OWN_CAR\", \"CODE_GENDER\"], size_max=30, title=\"MALE INCOME vs. AGE\")\n",
    "fig.show()"
   ]
  },
  {
   "cell_type": "code",
   "execution_count": null,
   "id": "6927ec97",
   "metadata": {
    "papermill": {
     "duration": 0.040508,
     "end_time": "2024-04-22T12:18:48.529463",
     "exception": false,
     "start_time": "2024-04-22T12:18:48.488955",
     "status": "completed"
    },
    "tags": []
   },
   "outputs": [],
   "source": [
    "df_ge = df_ge[df_ge[\"AMT_INCOME_TOTAL\"] > 50000]\n",
    "df_ge = df_ge[df_ge[\"CNT_FAM_MEMBERS\"] > 1]\n",
    "\n",
    "fig = px.scatter(df_ge, x=\"AMT_INCOME_TOTAL\", y=\"CNT_FAM_MEMBERS\", color=\"CNT_FAM_MEMBERS\", size=\"AMT_INCOME_TOTAL\",\n",
    "                 hover_data=[\"CNT_FAM_MEMBERS\", \"CODE_GENDER\"], size_max=50, title=\"INCOME vs. FAMILY SIZE\")\n",
    "fig.show()"
   ]
  },
  {
   "cell_type": "code",
   "execution_count": null,
   "id": "45f4aeb1",
   "metadata": {
    "papermill": {
     "duration": 0.115505,
     "end_time": "2024-04-22T12:18:48.676757",
     "exception": false,
     "start_time": "2024-04-22T12:18:48.561252",
     "status": "completed"
    },
    "tags": []
   },
   "outputs": [],
   "source": [
    "df[\"NAME_INCOME_TYPE\"].value_counts()"
   ]
  },
  {
   "cell_type": "code",
   "execution_count": null,
   "id": "fddaf801",
   "metadata": {
    "papermill": {
     "duration": 0.390382,
     "end_time": "2024-04-22T12:18:49.106370",
     "exception": false,
     "start_time": "2024-04-22T12:18:48.715988",
     "status": "completed"
    },
    "tags": []
   },
   "outputs": [],
   "source": [
    "plt.bar(df[\"NAME_INCOME_TYPE\"].value_counts().index, df[\"NAME_INCOME_TYPE\"].value_counts().values, color='Purple')\n",
    "\n",
    "\n",
    "\n",
    "# Add labels and title\n",
    "plt.xlabel(\"Income Type\")\n",
    "plt.ylabel(\"Count\")\n",
    "plt.title(\"Value Counts of NAME_INCOME_TYPE\")\n",
    "\n",
    "# Rotate x-axis labels for better visibility\n",
    "plt.xticks(rotation=45)\n",
    "\n",
    "# Show plot\n",
    "plt.show()"
   ]
  },
  {
   "cell_type": "code",
   "execution_count": null,
   "id": "13b59c9b",
   "metadata": {
    "papermill": {
     "duration": 0.119602,
     "end_time": "2024-04-22T12:18:49.261871",
     "exception": false,
     "start_time": "2024-04-22T12:18:49.142269",
     "status": "completed"
    },
    "tags": []
   },
   "outputs": [],
   "source": [
    "df[\"NAME_EDUCATION_TYPE\"].value_counts()"
   ]
  },
  {
   "cell_type": "code",
   "execution_count": null,
   "id": "42e622ac",
   "metadata": {
    "papermill": {
     "duration": 0.465451,
     "end_time": "2024-04-22T12:18:49.765281",
     "exception": false,
     "start_time": "2024-04-22T12:18:49.299830",
     "status": "completed"
    },
    "tags": []
   },
   "outputs": [],
   "source": [
    "plt.bar(df[\"NAME_EDUCATION_TYPE\"].value_counts().index, df[\"NAME_EDUCATION_TYPE\"].value_counts().values,color='green')\n",
    "# Add labels and title\n",
    "plt.xlabel(\"EDUCATION Type\")\n",
    "plt.ylabel(\"Count\")\n",
    "plt.title(\"Value Counts of NAME_EDUCATION_TYPE\")\n",
    "\n",
    "# Rotate x-axis labels for better visibility\n",
    "plt.xticks(rotation=30)\n",
    "\n",
    "# Show plot\n",
    "plt.show()"
   ]
  },
  {
   "cell_type": "code",
   "execution_count": null,
   "id": "383ddfde",
   "metadata": {
    "papermill": {
     "duration": 0.114514,
     "end_time": "2024-04-22T12:18:49.914257",
     "exception": false,
     "start_time": "2024-04-22T12:18:49.799743",
     "status": "completed"
    },
    "tags": []
   },
   "outputs": [],
   "source": [
    "df[\"NAME_FAMILY_STATUS\"].value_counts()"
   ]
  },
  {
   "cell_type": "code",
   "execution_count": null,
   "id": "1f027af5",
   "metadata": {
    "papermill": {
     "duration": 0.466426,
     "end_time": "2024-04-22T12:18:50.414670",
     "exception": false,
     "start_time": "2024-04-22T12:18:49.948244",
     "status": "completed"
    },
    "tags": []
   },
   "outputs": [],
   "source": [
    "plt.figure(figsize=(10, 8))\n",
    "family_status_counts = df[\"NAME_FAMILY_STATUS\"].value_counts()\n",
    "sns.barplot(\n",
    "    y=family_status_counts.index,\n",
    "    x=family_status_counts.values,\n",
    "    palette='rocket'\n",
    ")\n",
    "\n",
    "plt.xlabel('Count')\n",
    "plt.ylabel('Family Status')\n",
    "plt.title('Counts of Different Family Statuses')\n",
    "plt.show()"
   ]
  },
  {
   "cell_type": "code",
   "execution_count": null,
   "id": "2c47fa11",
   "metadata": {
    "papermill": {
     "duration": 0.116335,
     "end_time": "2024-04-22T12:18:50.566876",
     "exception": false,
     "start_time": "2024-04-22T12:18:50.450541",
     "status": "completed"
    },
    "tags": []
   },
   "outputs": [],
   "source": [
    "df[\"OCCUPATION_TYPE\"].value_counts()"
   ]
  },
  {
   "cell_type": "code",
   "execution_count": null,
   "id": "feee2ef8",
   "metadata": {
    "papermill": {
     "duration": 0.560271,
     "end_time": "2024-04-22T12:18:51.164310",
     "exception": false,
     "start_time": "2024-04-22T12:18:50.604039",
     "status": "completed"
    },
    "tags": []
   },
   "outputs": [],
   "source": [
    "occupation_counts = df[\"OCCUPATION_TYPE\"].value_counts()\n",
    "\n",
    "plt.figure(figsize=(10, 8))\n",
    "\n",
    "# Create the bar plot using the computed value counts\n",
    "sns.barplot(\n",
    "    y=occupation_counts.index,\n",
    "    x=occupation_counts.values,\n",
    "    palette='Set2'\n",
    ")"
   ]
  },
  {
   "cell_type": "code",
   "execution_count": null,
   "id": "6a0d9b0a",
   "metadata": {
    "papermill": {
     "duration": 0.1087,
     "end_time": "2024-04-22T12:18:51.308822",
     "exception": false,
     "start_time": "2024-04-22T12:18:51.200122",
     "status": "completed"
    },
    "tags": []
   },
   "outputs": [],
   "source": [
    "df[\"STATUS\"].value_counts()"
   ]
  },
  {
   "cell_type": "code",
   "execution_count": null,
   "id": "668ef496",
   "metadata": {
    "papermill": {
     "duration": 0.377627,
     "end_time": "2024-04-22T12:18:51.722132",
     "exception": false,
     "start_time": "2024-04-22T12:18:51.344505",
     "status": "completed"
    },
    "tags": []
   },
   "outputs": [],
   "source": [
    "status_counts = df[\"STATUS\"].value_counts()\n",
    "\n",
    "plt.figure(figsize=(10, 8))\n",
    "\n",
    "# Create the bar plot using the computed value counts\n",
    "sns.barplot(\n",
    "    y=status_counts.index,\n",
    "    x=status_counts.values,\n",
    "    palette='rocket'\n",
    ")"
   ]
  },
  {
   "cell_type": "code",
   "execution_count": null,
   "id": "b2d5e9d0",
   "metadata": {
    "papermill": {
     "duration": 0.665582,
     "end_time": "2024-04-22T12:18:52.424098",
     "exception": false,
     "start_time": "2024-04-22T12:18:51.758516",
     "status": "completed"
    },
    "tags": []
   },
   "outputs": [],
   "source": [
    "df['STATUS'].replace(\"C\" , \"Good_Debt\" , inplace = True)\n",
    "df['STATUS'].replace(\"X\" , \"Good_Debt\" , inplace = True)\n",
    "df['STATUS'].replace(\"0\" , \"Good_Debt\" , inplace = True)\n",
    "df['STATUS'].replace(\"1\" , \"Good_Debt\" , inplace = True)\n",
    "df['STATUS'].replace(\"2\" , \"Bad_Debt\" , inplace = True)\n",
    "df['STATUS'].replace(\"3\" , \"Bad_Debt\" , inplace = True)\n",
    "df['STATUS'].replace(\"4\" , \"Bad_Debt\" , inplace = True)\n",
    "df['STATUS'].replace(\"5\" , \"Bad_Debt\" , inplace = True)"
   ]
  },
  {
   "cell_type": "code",
   "execution_count": null,
   "id": "ac9eabb2",
   "metadata": {
    "papermill": {
     "duration": 0.109898,
     "end_time": "2024-04-22T12:18:52.571090",
     "exception": false,
     "start_time": "2024-04-22T12:18:52.461192",
     "status": "completed"
    },
    "tags": []
   },
   "outputs": [],
   "source": [
    "df[\"STATUS\"].value_counts()"
   ]
  },
  {
   "cell_type": "code",
   "execution_count": null,
   "id": "75c896e1",
   "metadata": {
    "papermill": {
     "duration": 0.674498,
     "end_time": "2024-04-22T12:18:53.281913",
     "exception": false,
     "start_time": "2024-04-22T12:18:52.607415",
     "status": "completed"
    },
    "tags": []
   },
   "outputs": [],
   "source": [
    "sns.countplot (x='STATUS',data=df)"
   ]
  },
  {
   "cell_type": "markdown",
   "id": "2fb9df85",
   "metadata": {
    "papermill": {
     "duration": 0.036749,
     "end_time": "2024-04-22T12:18:53.356071",
     "exception": false,
     "start_time": "2024-04-22T12:18:53.319322",
     "status": "completed"
    },
    "tags": []
   },
   "source": [
    "**imbalance data**"
   ]
  },
  {
   "cell_type": "code",
   "execution_count": null,
   "id": "f5491d9f",
   "metadata": {
    "papermill": {
     "duration": 0.089225,
     "end_time": "2024-04-22T12:18:53.483049",
     "exception": false,
     "start_time": "2024-04-22T12:18:53.393824",
     "status": "completed"
    },
    "tags": []
   },
   "outputs": [],
   "source": [
    "Numerical=df.select_dtypes(exclude='object').columns.tolist()\n",
    "Numerical"
   ]
  },
  {
   "cell_type": "code",
   "execution_count": null,
   "id": "c7279d0f",
   "metadata": {
    "papermill": {
     "duration": 0.362142,
     "end_time": "2024-04-22T12:18:53.887455",
     "exception": false,
     "start_time": "2024-04-22T12:18:53.525313",
     "status": "completed"
    },
    "tags": []
   },
   "outputs": [],
   "source": [
    "value_count_dict = dict()\n",
    "for i in Numerical :\n",
    "    print(i,'column\\'s count values : ' )\n",
    "    index , count = df[i].value_counts().index , df[i].value_counts().values\n",
    "    value_count_dict['value']  = list(index)\n",
    "    value_count_dict['count'] = list(count)\n",
    "    value_count_df = pd.DataFrame(value_count_dict)\n",
    "    if value_count_df.shape[0]<10:\n",
    "        display(value_count_df.head(10))\n",
    "    else :\n",
    "        display(value_count_df.head())"
   ]
  },
  {
   "cell_type": "code",
   "execution_count": null,
   "id": "b782f5bb",
   "metadata": {
    "papermill": {
     "duration": 0.619828,
     "end_time": "2024-04-22T12:18:54.551551",
     "exception": false,
     "start_time": "2024-04-22T12:18:53.931723",
     "status": "completed"
    },
    "tags": []
   },
   "outputs": [],
   "source": [
    "fig, axes = plt.subplots(1,3)\n",
    "\n",
    "g1=sns.countplot(x=df.FLAG_PHONE,linewidth=1, ax=axes[0],palette=\"Set2\")\n",
    "g1.set_title(\"Phone status\")\n",
    "g1.set_xlabel(\"Count\")\n",
    "\n",
    "g2=sns.countplot(x=df.FLAG_EMAIL,linewidth=1.2, ax=axes[1],palette=\"Set2\")\n",
    "g2.set_title(\"Email Status\")\n",
    "g2.set_xlabel(\"Count\")\n",
    "\n",
    "g3=sns.countplot(x=df.FLAG_WORK_PHONE,linewidth=1.2, ax=axes[2],palette=\"Set2\")\n",
    "g3.set_title(\"FLAG_WORK_PHONE Status\")\n",
    "g3.set_xlabel(\"Count\")\n",
    "\n",
    "fig.set_size_inches(14,5)\n",
    "\n",
    "plt.tight_layout()\n",
    "\n",
    "\n",
    "plt.show()"
   ]
  },
  {
   "cell_type": "code",
   "execution_count": null,
   "id": "01b114f5",
   "metadata": {
    "papermill": {
     "duration": 0.055726,
     "end_time": "2024-04-22T12:18:54.650256",
     "exception": false,
     "start_time": "2024-04-22T12:18:54.594530",
     "status": "completed"
    },
    "tags": []
   },
   "outputs": [],
   "source": [
    "df[\"CNT_CHILDREN\"].value_counts()"
   ]
  },
  {
   "cell_type": "code",
   "execution_count": null,
   "id": "c37b4520",
   "metadata": {
    "papermill": {
     "duration": 0.289784,
     "end_time": "2024-04-22T12:18:54.985895",
     "exception": false,
     "start_time": "2024-04-22T12:18:54.696111",
     "status": "completed"
    },
    "tags": []
   },
   "outputs": [],
   "source": [
    "\n",
    "sns.boxplot( x=df[\"CNT_CHILDREN\"])"
   ]
  },
  {
   "cell_type": "code",
   "execution_count": null,
   "id": "3ba2536b",
   "metadata": {
    "papermill": {
     "duration": 0.063279,
     "end_time": "2024-04-22T12:18:55.091262",
     "exception": false,
     "start_time": "2024-04-22T12:18:55.027983",
     "status": "completed"
    },
    "tags": []
   },
   "outputs": [],
   "source": [
    "df[\"CNT_FAM_MEMBERS\"].value_counts()"
   ]
  },
  {
   "cell_type": "code",
   "execution_count": null,
   "id": "f330d2e7",
   "metadata": {
    "papermill": {
     "duration": 0.298516,
     "end_time": "2024-04-22T12:18:55.435967",
     "exception": false,
     "start_time": "2024-04-22T12:18:55.137451",
     "status": "completed"
    },
    "tags": []
   },
   "outputs": [],
   "source": [
    "sns.boxplot( x=df[\"CNT_FAM_MEMBERS\"],palette=\"husl\")"
   ]
  },
  {
   "cell_type": "code",
   "execution_count": null,
   "id": "4ed865c9",
   "metadata": {
    "papermill": {
     "duration": 0.060038,
     "end_time": "2024-04-22T12:18:55.538186",
     "exception": false,
     "start_time": "2024-04-22T12:18:55.478148",
     "status": "completed"
    },
    "tags": []
   },
   "outputs": [],
   "source": [
    "df[\"AMT_INCOME_TOTAL\"].agg([\"min\" , 'max' , 'mean' , \"std\"])"
   ]
  },
  {
   "cell_type": "code",
   "execution_count": null,
   "id": "8c3fff88",
   "metadata": {
    "papermill": {
     "duration": 1.828177,
     "end_time": "2024-04-22T12:18:57.411210",
     "exception": false,
     "start_time": "2024-04-22T12:18:55.583033",
     "status": "completed"
    },
    "tags": []
   },
   "outputs": [],
   "source": [
    "fig = px.scatter(df, x=\"AMT_INCOME_TOTAL\")\n",
    "fig.show()"
   ]
  },
  {
   "cell_type": "code",
   "execution_count": null,
   "id": "1192d6e8",
   "metadata": {
    "papermill": {
     "duration": 0.143451,
     "end_time": "2024-04-22T12:18:57.689721",
     "exception": false,
     "start_time": "2024-04-22T12:18:57.546270",
     "status": "completed"
    },
    "tags": []
   },
   "outputs": [],
   "source": [
    "df[\"DAYS_BIRTH\"]"
   ]
  },
  {
   "cell_type": "code",
   "execution_count": null,
   "id": "4acddffe",
   "metadata": {
    "papermill": {
     "duration": 0.1426,
     "end_time": "2024-04-22T12:18:57.969464",
     "exception": false,
     "start_time": "2024-04-22T12:18:57.826864",
     "status": "completed"
    },
    "tags": []
   },
   "outputs": [],
   "source": [
    "df[\"DAYS_BIRTH\"].agg([\"min\" , 'max'])"
   ]
  },
  {
   "cell_type": "code",
   "execution_count": null,
   "id": "2537305a",
   "metadata": {
    "papermill": {
     "duration": 5.328803,
     "end_time": "2024-04-22T12:19:03.430392",
     "exception": false,
     "start_time": "2024-04-22T12:18:58.101589",
     "status": "completed"
    },
    "tags": []
   },
   "outputs": [],
   "source": [
    "\n",
    "\n",
    "df['DAYS_BIRTH'] = datetime.strptime(\"2024-01-01\", \"%Y-%m-%d\") + df['DAYS_BIRTH'].apply(pd.offsets.Day)"
   ]
  },
  {
   "cell_type": "code",
   "execution_count": null,
   "id": "8b4c3f30",
   "metadata": {
    "papermill": {
     "duration": 0.144114,
     "end_time": "2024-04-22T12:19:03.712623",
     "exception": false,
     "start_time": "2024-04-22T12:19:03.568509",
     "status": "completed"
    },
    "tags": []
   },
   "outputs": [],
   "source": [
    "df['DAYS_BIRTH']"
   ]
  },
  {
   "cell_type": "code",
   "execution_count": null,
   "id": "0d127ee8",
   "metadata": {
    "papermill": {
     "duration": 2.534222,
     "end_time": "2024-04-22T12:19:06.378186",
     "exception": false,
     "start_time": "2024-04-22T12:19:03.843964",
     "status": "completed"
    },
    "tags": []
   },
   "outputs": [],
   "source": [
    "plt.hist(df['DAYS_BIRTH'])\n",
    "plt.xlabel('Year')\n",
    "plt.ylabel('Frequency')\n",
    "plt.title('Distribution of Birth Years')\n",
    "plt.show()"
   ]
  },
  {
   "cell_type": "code",
   "execution_count": null,
   "id": "1e66f449",
   "metadata": {
    "papermill": {
     "duration": 0.140711,
     "end_time": "2024-04-22T12:19:06.660457",
     "exception": false,
     "start_time": "2024-04-22T12:19:06.519746",
     "status": "completed"
    },
    "tags": []
   },
   "outputs": [],
   "source": [
    "df[\"DAYS_EMPLOYED\"]"
   ]
  },
  {
   "cell_type": "code",
   "execution_count": null,
   "id": "8b477575",
   "metadata": {
    "papermill": {
     "duration": 0.141942,
     "end_time": "2024-04-22T12:19:06.935085",
     "exception": false,
     "start_time": "2024-04-22T12:19:06.793143",
     "status": "completed"
    },
    "tags": []
   },
   "outputs": [],
   "source": [
    "df[\"DAYS_EMPLOYED\"].agg([\"min\" , 'max'])"
   ]
  },
  {
   "cell_type": "code",
   "execution_count": null,
   "id": "2f13871a",
   "metadata": {
    "papermill": {
     "duration": 5.362272,
     "end_time": "2024-04-22T12:19:12.431212",
     "exception": false,
     "start_time": "2024-04-22T12:19:07.068940",
     "status": "completed"
    },
    "tags": []
   },
   "outputs": [],
   "source": [
    "\n",
    "df['DAYS_EMPLOYED'] = datetime.strptime(\"2024-01-01\", \"%Y-%m-%d\") + df['DAYS_EMPLOYED'].apply(pd.offsets.Day)"
   ]
  },
  {
   "cell_type": "code",
   "execution_count": null,
   "id": "68ed8ce4",
   "metadata": {
    "papermill": {
     "duration": 0.14407,
     "end_time": "2024-04-22T12:19:12.723398",
     "exception": false,
     "start_time": "2024-04-22T12:19:12.579328",
     "status": "completed"
    },
    "tags": []
   },
   "outputs": [],
   "source": [
    "df['DAYS_EMPLOYED'] "
   ]
  },
  {
   "cell_type": "code",
   "execution_count": null,
   "id": "56320c69",
   "metadata": {
    "papermill": {
     "duration": 0.364334,
     "end_time": "2024-04-22T12:19:13.217828",
     "exception": false,
     "start_time": "2024-04-22T12:19:12.853494",
     "status": "completed"
    },
    "tags": []
   },
   "outputs": [],
   "source": [
    "df[\"DAYS_EMPLOYED\"].agg([\"min\" , 'max'])"
   ]
  },
  {
   "cell_type": "code",
   "execution_count": null,
   "id": "906f394a",
   "metadata": {
    "papermill": {
     "duration": 2.557661,
     "end_time": "2024-04-22T12:19:15.913646",
     "exception": false,
     "start_time": "2024-04-22T12:19:13.355985",
     "status": "completed"
    },
    "tags": []
   },
   "outputs": [],
   "source": [
    "plt.hist(df['DAYS_EMPLOYED'])\n",
    "plt.xlabel('Year')\n",
    "plt.ylabel('Frequency')\n",
    "plt.title('Distribution of Employed Years')\n",
    "plt.show()"
   ]
  },
  {
   "cell_type": "markdown",
   "id": "bd54ceb2",
   "metadata": {
    "papermill": {
     "duration": 0.137277,
     "end_time": "2024-04-22T12:19:16.192586",
     "exception": false,
     "start_time": "2024-04-22T12:19:16.055309",
     "status": "completed"
    },
    "tags": []
   },
   "source": [
    "**right skweness**"
   ]
  },
  {
   "cell_type": "code",
   "execution_count": null,
   "id": "8ac2abe6",
   "metadata": {
    "papermill": {
     "duration": 0.1404,
     "end_time": "2024-04-22T12:19:16.466797",
     "exception": false,
     "start_time": "2024-04-22T12:19:16.326397",
     "status": "completed"
    },
    "tags": []
   },
   "outputs": [],
   "source": [
    "df[\"MONTHS_BALANCE\"]"
   ]
  },
  {
   "cell_type": "code",
   "execution_count": null,
   "id": "2c92bb83",
   "metadata": {
    "papermill": {
     "duration": 0.140637,
     "end_time": "2024-04-22T12:19:16.738215",
     "exception": false,
     "start_time": "2024-04-22T12:19:16.597578",
     "status": "completed"
    },
    "tags": []
   },
   "outputs": [],
   "source": [
    "df[\"MONTHS_BALANCE\"]=df[\"MONTHS_BALANCE\"]*-1"
   ]
  },
  {
   "cell_type": "code",
   "execution_count": null,
   "id": "00dddcd8",
   "metadata": {
    "papermill": {
     "duration": 0.143287,
     "end_time": "2024-04-22T12:19:17.012776",
     "exception": false,
     "start_time": "2024-04-22T12:19:16.869489",
     "status": "completed"
    },
    "tags": []
   },
   "outputs": [],
   "source": [
    "df[\"MONTHS_BALANCE\"]"
   ]
  },
  {
   "cell_type": "code",
   "execution_count": null,
   "id": "686afed6",
   "metadata": {
    "papermill": {
     "duration": 0.147315,
     "end_time": "2024-04-22T12:19:17.292922",
     "exception": false,
     "start_time": "2024-04-22T12:19:17.145607",
     "status": "completed"
    },
    "tags": []
   },
   "outputs": [],
   "source": [
    "df[\"MONTHS_BALANCE\"].agg([\"min\" , 'max'])"
   ]
  },
  {
   "cell_type": "code",
   "execution_count": null,
   "id": "d0a84f74",
   "metadata": {
    "papermill": {
     "duration": 0.452001,
     "end_time": "2024-04-22T12:19:17.884217",
     "exception": false,
     "start_time": "2024-04-22T12:19:17.432216",
     "status": "completed"
    },
    "tags": []
   },
   "outputs": [],
   "source": [
    "ax = df[\"MONTHS_BALANCE\"].hist( # Remove grid\n",
    "                        xlabelsize=10, # Change size of labels on the x-axis\n",
    "                        ylabelsize=12, # Change size of labels on the y-axis\n",
    "                        bins=20, # Number of bins\n",
    "                        edgecolor='black', # Color of the border\n",
    "                        color='orange', # Color of the bins\n",
    "                        rwidth=0.8 # Space between bins\n",
    "                       )\n",
    "\n",
    "# Add a bold title ('\\n' allow us to jump rows)\n",
    "ax.set_title('Distribution of \\nthe months length',\n",
    "             weight='bold') \n",
    "\n",
    "# Add label names\n",
    "ax.set_xlabel('MONTHS_BALANCE')\n",
    "ax.set_ylabel('Frequency')\n",
    "\n",
    "# Show the plot\n",
    "plt.show()"
   ]
  },
  {
   "cell_type": "markdown",
   "id": "9b898a3c",
   "metadata": {
    "papermill": {
     "duration": 0.134758,
     "end_time": "2024-04-22T12:19:18.157605",
     "exception": false,
     "start_time": "2024-04-22T12:19:18.022847",
     "status": "completed"
    },
    "tags": []
   },
   "source": [
    "***left skweness*******"
   ]
  },
  {
   "cell_type": "code",
   "execution_count": null,
   "id": "e87ae9fb",
   "metadata": {
    "papermill": {
     "duration": 0.72722,
     "end_time": "2024-04-22T12:19:19.022191",
     "exception": false,
     "start_time": "2024-04-22T12:19:18.294971",
     "status": "completed"
    },
    "tags": []
   },
   "outputs": [],
   "source": [
    "df.info()"
   ]
  },
  {
   "cell_type": "markdown",
   "id": "6399012a",
   "metadata": {
    "papermill": {
     "duration": 0.151685,
     "end_time": "2024-04-22T12:19:19.323253",
     "exception": false,
     "start_time": "2024-04-22T12:19:19.171568",
     "status": "completed"
    },
    "tags": []
   },
   "source": [
    "# Preprocessing"
   ]
  },
  {
   "cell_type": "markdown",
   "id": "9e5b06f2",
   "metadata": {
    "papermill": {
     "duration": 0.145936,
     "end_time": "2024-04-22T12:19:19.616095",
     "exception": false,
     "start_time": "2024-04-22T12:19:19.470159",
     "status": "completed"
    },
    "tags": []
   },
   "source": [
    "visualization clear to us some issues about data like:\n",
    "*   some coulumns have imbalanced like status and email_status\n",
    "*   some coulumns have oultiers like AMT_INCOME_TOTAL,CNT_FAM_MEMBERS and CNT_CHILDREN\n",
    "*   coulums have skweness like DAYS_EMPLOYED\n",
    "*    normalize data\n"
   ]
  },
  {
   "cell_type": "markdown",
   "id": "bc6ffa69",
   "metadata": {
    "papermill": {
     "duration": 0.137589,
     "end_time": "2024-04-22T12:19:19.927037",
     "exception": false,
     "start_time": "2024-04-22T12:19:19.789448",
     "status": "completed"
    },
    "tags": []
   },
   "source": [
    "**handling outliers**"
   ]
  },
  {
   "cell_type": "code",
   "execution_count": null,
   "id": "88a3558c",
   "metadata": {
    "papermill": {
     "duration": 0.274746,
     "end_time": "2024-04-22T12:19:20.336275",
     "exception": false,
     "start_time": "2024-04-22T12:19:20.061529",
     "status": "completed"
    },
    "tags": []
   },
   "outputs": [],
   "source": [
    "# Select the columns where you want to remove outliers\n",
    "columns_to_filter = ['AMT_INCOME_TOTAL', 'CNT_FAM_MEMBERS', 'CNT_CHILDREN']\n",
    "\n",
    "# Calculate lower and upper bounds for each selected column\n",
    "lower_bounds = df[columns_to_filter].quantile(0.05)\n",
    "upper_bounds = df[columns_to_filter].quantile(0.90)\n",
    "\n",
    "# Define the boundaries for outlier removal\n",
    "lower_bound_limits = lower_bounds - 0.05 * (upper_bounds - lower_bounds)\n",
    "upper_bound_limits = upper_bounds + 0.05 * (upper_bounds - lower_bounds)\n",
    "\n",
    "# Filter out the rows containing outliers in any of the selected columns\n",
    "df = df[~((df[columns_to_filter] < lower_bound_limits) | (df[columns_to_filter] > upper_bound_limits)).any(axis=1)]\n"
   ]
  },
  {
   "cell_type": "code",
   "execution_count": null,
   "id": "d58a3403",
   "metadata": {
    "papermill": {
     "duration": 0.656975,
     "end_time": "2024-04-22T12:19:21.126502",
     "exception": false,
     "start_time": "2024-04-22T12:19:20.469527",
     "status": "completed"
    },
    "tags": []
   },
   "outputs": [],
   "source": [
    "df.info()"
   ]
  },
  {
   "cell_type": "code",
   "execution_count": null,
   "id": "d35c282f",
   "metadata": {
    "papermill": {
     "duration": 0.351348,
     "end_time": "2024-04-22T12:19:21.615980",
     "exception": false,
     "start_time": "2024-04-22T12:19:21.264632",
     "status": "completed"
    },
    "tags": []
   },
   "outputs": [],
   "source": [
    "sns.boxplot( data=df[[\"AMT_INCOME_TOTAL\"]],palette=\"husl\")"
   ]
  },
  {
   "cell_type": "code",
   "execution_count": null,
   "id": "fae6bb8b",
   "metadata": {
    "papermill": {
     "duration": 0.346032,
     "end_time": "2024-04-22T12:19:22.106236",
     "exception": false,
     "start_time": "2024-04-22T12:19:21.760204",
     "status": "completed"
    },
    "tags": []
   },
   "outputs": [],
   "source": [
    "sns.boxplot( data=df[[\"CNT_FAM_MEMBERS\",\"CNT_CHILDREN\"]],palette=\"husl\")"
   ]
  },
  {
   "cell_type": "markdown",
   "id": "210fc82b",
   "metadata": {
    "papermill": {
     "duration": 0.133641,
     "end_time": "2024-04-22T12:19:22.380338",
     "exception": false,
     "start_time": "2024-04-22T12:19:22.246697",
     "status": "completed"
    },
    "tags": []
   },
   "source": [
    "#### label_encoding"
   ]
  },
  {
   "cell_type": "code",
   "execution_count": null,
   "id": "d52c9f17",
   "metadata": {
    "papermill": {
     "duration": 2.275845,
     "end_time": "2024-04-22T12:19:24.790747",
     "exception": false,
     "start_time": "2024-04-22T12:19:22.514902",
     "status": "completed"
    },
    "tags": []
   },
   "outputs": [],
   "source": [
    "lst = list(df.select_dtypes('object').columns)\n",
    "\n",
    " \n",
    "\n",
    "for i in lst :\n",
    "\n",
    "  lb = LabelEncoder()\n",
    "\n",
    "  df[i] = lb.fit_transform(df[i])"
   ]
  },
  {
   "cell_type": "code",
   "execution_count": null,
   "id": "9b28e04c",
   "metadata": {
    "papermill": {
     "duration": 0.189993,
     "end_time": "2024-04-22T12:19:25.128374",
     "exception": false,
     "start_time": "2024-04-22T12:19:24.938381",
     "status": "completed"
    },
    "tags": []
   },
   "outputs": [],
   "source": [
    "df=df.drop([\"FLAG_PHONE\"], axis=1)"
   ]
  },
  {
   "cell_type": "code",
   "execution_count": null,
   "id": "65b327a2",
   "metadata": {
    "papermill": {
     "duration": 0.159168,
     "end_time": "2024-04-22T12:19:25.421950",
     "exception": false,
     "start_time": "2024-04-22T12:19:25.262782",
     "status": "completed"
    },
    "tags": []
   },
   "outputs": [],
   "source": [
    "x = df.drop([\"ID\",'STATUS'], axis=1)\n",
    "y = df['STATUS']"
   ]
  },
  {
   "cell_type": "markdown",
   "id": "264656c8",
   "metadata": {
    "papermill": {
     "duration": 0.135142,
     "end_time": "2024-04-22T12:19:25.691837",
     "exception": false,
     "start_time": "2024-04-22T12:19:25.556695",
     "status": "completed"
    },
    "tags": []
   },
   "source": [
    "### oversampling data"
   ]
  },
  {
   "cell_type": "code",
   "execution_count": null,
   "id": "88b1a70c",
   "metadata": {
    "papermill": {
     "duration": 0.732655,
     "end_time": "2024-04-22T12:19:26.567881",
     "exception": false,
     "start_time": "2024-04-22T12:19:25.835226",
     "status": "completed"
    },
    "tags": []
   },
   "outputs": [],
   "source": [
    "\n",
    "\n",
    "# Assuming x and y are your feature and target variables respectively\n",
    "smote = SMOTE()\n",
    "X_balance, Y_balance = smote.fit_resample(x, y)\n"
   ]
  },
  {
   "cell_type": "code",
   "execution_count": null,
   "id": "bde8f5dc",
   "metadata": {
    "papermill": {
     "duration": 0.410498,
     "end_time": "2024-04-22T12:19:27.113542",
     "exception": false,
     "start_time": "2024-04-22T12:19:26.703044",
     "status": "completed"
    },
    "tags": []
   },
   "outputs": [],
   "source": [
    "\n",
    "x_train, x_test, y_train, y_test = train_test_split(X_balance, Y_balance, test_size=0.2, random_state=16)\n"
   ]
  },
  {
   "cell_type": "code",
   "execution_count": null,
   "id": "0fa06233",
   "metadata": {
    "papermill": {
     "duration": 0.20115,
     "end_time": "2024-04-22T12:19:27.453420",
     "exception": false,
     "start_time": "2024-04-22T12:19:27.252270",
     "status": "completed"
    },
    "tags": []
   },
   "outputs": [],
   "source": [
    "# Skew function of Pandas\n",
    "old_skew = df.skew().sort_values(ascending=False)\n",
    "old_skew"
   ]
  },
  {
   "cell_type": "markdown",
   "id": "f0d978dc",
   "metadata": {
    "papermill": {
     "duration": 0.142219,
     "end_time": "2024-04-22T12:19:27.733932",
     "exception": false,
     "start_time": "2024-04-22T12:19:27.591713",
     "status": "completed"
    },
    "tags": []
   },
   "source": [
    "#### handling skewness "
   ]
  },
  {
   "cell_type": "code",
   "execution_count": null,
   "id": "91334ef3",
   "metadata": {
    "papermill": {
     "duration": 6.523875,
     "end_time": "2024-04-22T12:19:34.400029",
     "exception": false,
     "start_time": "2024-04-22T12:19:27.876154",
     "status": "completed"
    },
    "tags": []
   },
   "outputs": [],
   "source": [
    "power = PowerTransformer(method='yeo-johnson')\n",
    "x_train = power.fit_transform(x_train)\n",
    "x_test = power.fit_transform(x_test)"
   ]
  },
  {
   "cell_type": "code",
   "execution_count": null,
   "id": "a5e677e9",
   "metadata": {
    "papermill": {
     "duration": 0.142128,
     "end_time": "2024-04-22T12:19:34.679591",
     "exception": false,
     "start_time": "2024-04-22T12:19:34.537463",
     "status": "completed"
    },
    "tags": []
   },
   "outputs": [],
   "source": [
    "# normalizer = StandardScaler()\n",
    "# x_train = normalizer.fit_transform(x_train)\n",
    "# x_test = normalizer.fit_transform(x_test)"
   ]
  },
  {
   "cell_type": "markdown",
   "id": "62dc5ae5",
   "metadata": {
    "papermill": {
     "duration": 0.136934,
     "end_time": "2024-04-22T12:19:34.949883",
     "exception": false,
     "start_time": "2024-04-22T12:19:34.812949",
     "status": "completed"
    },
    "tags": []
   },
   "source": [
    "### Modeling & evaluation\n",
    "* LogisticRegression\n",
    "* RandomForestClassifier\n",
    "* XGBClassifier\n"
   ]
  },
  {
   "cell_type": "markdown",
   "id": "87aba92b",
   "metadata": {
    "papermill": {
     "duration": 0.133716,
     "end_time": "2024-04-22T12:19:35.217340",
     "exception": false,
     "start_time": "2024-04-22T12:19:35.083624",
     "status": "completed"
    },
    "tags": []
   },
   "source": [
    "**LogisticRegression**"
   ]
  },
  {
   "cell_type": "code",
   "execution_count": null,
   "id": "282ab364",
   "metadata": {
    "papermill": {
     "duration": 1.382555,
     "end_time": "2024-04-22T12:19:36.733320",
     "exception": false,
     "start_time": "2024-04-22T12:19:35.350765",
     "status": "completed"
    },
    "tags": []
   },
   "outputs": [],
   "source": [
    "log_model = LogisticRegression()\n",
    "log_model.fit(x_train, y_train)\n",
    "print('Logistic Model  Train Accuracy : ',log_model.score(x_train, y_train)*100, '%')\n",
    "print('Logistic Model Test Accuracy : ', log_model.score(x_test, y_test)*100, '%')\n",
    "\n",
    "prediction = log_model.predict(x_test)\n",
    "      \n"
   ]
  },
  {
   "cell_type": "code",
   "execution_count": null,
   "id": "a037ef3e",
   "metadata": {
    "papermill": {
     "duration": 0.215303,
     "end_time": "2024-04-22T12:19:37.153776",
     "exception": false,
     "start_time": "2024-04-22T12:19:36.938473",
     "status": "completed"
    },
    "tags": []
   },
   "outputs": [],
   "source": [
    "print('\\nClassification report:')      \n",
    "print(classification_report(y_test, prediction))\n",
    "\n"
   ]
  },
  {
   "cell_type": "code",
   "execution_count": null,
   "id": "32ca162a",
   "metadata": {
    "papermill": {
     "duration": 0.274765,
     "end_time": "2024-04-22T12:19:37.566099",
     "exception": false,
     "start_time": "2024-04-22T12:19:37.291334",
     "status": "completed"
    },
    "tags": []
   },
   "outputs": [],
   "source": [
    "\n",
    "conf_matrix = confusion_matrix(y_test, prediction)\n",
    "\n",
    "# Plot confusion matrix\n",
    "plt.figure(figsize=(2, 2))\n",
    "sns.set_style('white')\n",
    "sns.heatmap(conf_matrix, annot=True, fmt='d', cmap='Blues', cbar=False)\n",
    "plt.title('Confusion Matrix: Logistic Regression')\n",
    "plt.xlabel('Predicted')\n",
    "plt.ylabel('Actual')\n",
    "plt.show()"
   ]
  },
  {
   "cell_type": "code",
   "execution_count": null,
   "id": "5eb93dd8",
   "metadata": {
    "papermill": {
     "duration": 0.556102,
     "end_time": "2024-04-22T12:19:38.263181",
     "exception": false,
     "start_time": "2024-04-22T12:19:37.707079",
     "status": "completed"
    },
    "tags": []
   },
   "outputs": [],
   "source": [
    "import matplotlib.pyplot as plt\n",
    "from sklearn.metrics import roc_curve, auc\n",
    "\n",
    "# Assuming model2 is your trained classification model\n",
    "# Assuming x_test and y_test are your test features and labels, respectively\n",
    "\n",
    "# Calculate ROC curve\n",
    "fpr, tpr, thresholds = roc_curve(y_test, log_model.predict_proba(x_test)[:, 1])\n",
    "\n",
    "# Calculate AUC\n",
    "roc_auc = auc(fpr, tpr)\n",
    "\n",
    "# Plot ROC curve\n",
    "plt.figure()\n",
    "plt.plot(fpr, tpr, color='darkorange', lw=2, label='ROC curve (area = %0.2f)' % roc_auc)\n",
    "plt.plot([0, 1], [0, 1], color='navy', lw=2, linestyle='--')\n",
    "plt.xlim([0.0, 1.0])\n",
    "plt.ylim([0.0, 1.05])\n",
    "plt.xlabel('False Positive Rate')\n",
    "plt.ylabel('True Positive Rate')\n",
    "plt.title('Receiver Operating Characteristic (ROC) Curve')\n",
    "plt.legend(loc=\"lower right\")\n",
    "plt.show()"
   ]
  },
  {
   "cell_type": "markdown",
   "id": "28ead0e9",
   "metadata": {
    "papermill": {
     "duration": 0.137923,
     "end_time": "2024-04-22T12:19:38.543180",
     "exception": false,
     "start_time": "2024-04-22T12:19:38.405257",
     "status": "completed"
    },
    "tags": []
   },
   "source": [
    "**RandomForestClassifier**"
   ]
  },
  {
   "cell_type": "code",
   "execution_count": null,
   "id": "0d5e7338",
   "metadata": {
    "papermill": {
     "duration": 126.445249,
     "end_time": "2024-04-22T12:21:45.128688",
     "exception": false,
     "start_time": "2024-04-22T12:19:38.683439",
     "status": "completed"
    },
    "tags": []
   },
   "outputs": [],
   "source": [
    "model = RandomForestClassifier(random_state = 0)\n",
    "model.fit(x_train, y_train)\n",
    "print(\"RandomForest Train Accuracy = \",model.score(x_train, y_train))\n",
    "y_predict = model.predict(x_test)\n",
    "print(\"RandomForest Test Accuracy = \" , accuracy_score(y_test, y_predict))\n",
    "print(\"F1 = \" , f1_score(y_test, y_predict))\n",
    "\n"
   ]
  },
  {
   "cell_type": "code",
   "execution_count": null,
   "id": "481318fb",
   "metadata": {
    "papermill": {
     "duration": 0.21679,
     "end_time": "2024-04-22T12:21:45.486355",
     "exception": false,
     "start_time": "2024-04-22T12:21:45.269565",
     "status": "completed"
    },
    "tags": []
   },
   "outputs": [],
   "source": [
    "      \n",
    "print('\\nClassification report:')      \n",
    "print(classification_report(y_test, y_predict))"
   ]
  },
  {
   "cell_type": "code",
   "execution_count": null,
   "id": "bc8b4be3",
   "metadata": {
    "papermill": {
     "duration": 0.351336,
     "end_time": "2024-04-22T12:21:46.017149",
     "exception": false,
     "start_time": "2024-04-22T12:21:45.665813",
     "status": "completed"
    },
    "tags": []
   },
   "outputs": [],
   "source": [
    "\n",
    "conf_matrix = confusion_matrix(y_test, y_predict)\n",
    "\n",
    "# Plot confusion matrix\n",
    "plt.figure(figsize=(2, 2))\n",
    "sns.set_style('white')\n",
    "sns.heatmap(conf_matrix, annot=True, fmt='d', cmap='Purples', cbar=False)\n",
    "plt.title('Confusion Matrix: Logistic Regression')\n",
    "plt.xlabel('Predicted')\n",
    "plt.ylabel('Actual')\n",
    "plt.show()"
   ]
  },
  {
   "cell_type": "code",
   "execution_count": null,
   "id": "5b641bcb",
   "metadata": {
    "papermill": {
     "duration": 3.322686,
     "end_time": "2024-04-22T12:21:49.483266",
     "exception": false,
     "start_time": "2024-04-22T12:21:46.160580",
     "status": "completed"
    },
    "tags": []
   },
   "outputs": [],
   "source": [
    "import matplotlib.pyplot as plt\n",
    "from sklearn.metrics import roc_curve, auc\n",
    "\n",
    "# Assuming model2 is your trained classification model\n",
    "# Assuming x_test and y_test are your test features and labels, respectively\n",
    "\n",
    "# Calculate ROC curve\n",
    "fpr, tpr, thresholds = roc_curve(y_test, model.predict_proba(x_test)[:, 1])\n",
    "\n",
    "# Calculate AUC\n",
    "roc_auc = auc(fpr, tpr)\n",
    "\n",
    "# Plot ROC curve\n",
    "plt.figure()\n",
    "plt.plot(fpr, tpr, color='darkorange', lw=2, label='ROC curve (area = %0.2f)' % roc_auc)\n",
    "plt.plot([0, 1], [0, 1], color='navy', lw=2, linestyle='--')\n",
    "plt.xlim([0.0, 1.0])\n",
    "plt.ylim([0.0, 1.05])\n",
    "plt.xlabel('False Positive Rate')\n",
    "plt.ylabel('True Positive Rate')\n",
    "plt.title('Receiver Operating Characteristic (ROC) Curve')\n",
    "plt.legend(loc=\"lower right\")\n",
    "plt.show()\n"
   ]
  },
  {
   "cell_type": "markdown",
   "id": "9bbe8013",
   "metadata": {
    "papermill": {
     "duration": 0.156197,
     "end_time": "2024-04-22T12:21:49.786317",
     "exception": false,
     "start_time": "2024-04-22T12:21:49.630120",
     "status": "completed"
    },
    "tags": []
   },
   "source": [
    "**XGBoost**"
   ]
  },
  {
   "cell_type": "code",
   "execution_count": null,
   "id": "3f4c61fb",
   "metadata": {
    "papermill": {
     "duration": 8.265282,
     "end_time": "2024-04-22T12:21:58.189079",
     "exception": false,
     "start_time": "2024-04-22T12:21:49.923797",
     "status": "completed"
    },
    "tags": []
   },
   "outputs": [],
   "source": [
    "model2 =  XGBClassifier()\n",
    "model2.fit(x_train, y_train)\n",
    "print(\" XGB Train Accuracy = \" ,model2.score(x_train, y_train))\n",
    "y_predict = model.predict(x_test)\n",
    "print(\" XGB Test Accuracy = \" , accuracy_score(y_test, y_predict))\n",
    "print(\"F1 = \" , f1_score(y_test, y_predict))\n",
    "\n",
    "      \n"
   ]
  },
  {
   "cell_type": "code",
   "execution_count": null,
   "id": "64c57b26",
   "metadata": {
    "papermill": {
     "duration": 0.227684,
     "end_time": "2024-04-22T12:21:58.560238",
     "exception": false,
     "start_time": "2024-04-22T12:21:58.332554",
     "status": "completed"
    },
    "tags": []
   },
   "outputs": [],
   "source": [
    "print('\\nClassification report:')      \n",
    "print(classification_report(y_test, y_predict))"
   ]
  },
  {
   "cell_type": "code",
   "execution_count": null,
   "id": "517aa471",
   "metadata": {
    "papermill": {
     "duration": 0.275722,
     "end_time": "2024-04-22T12:21:58.975950",
     "exception": false,
     "start_time": "2024-04-22T12:21:58.700228",
     "status": "completed"
    },
    "tags": []
   },
   "outputs": [],
   "source": [
    "\n",
    "# Plot confusion matrix\n",
    "plt.figure(figsize=(2,2))\n",
    "sns.set_style('white')\n",
    "sns.heatmap(conf_matrix, annot=True, fmt='d', cmap='PuBuGn_r', cbar=False)\n",
    "plt.title('Confusion Matrix: Logistic Regression')\n",
    "plt.xlabel('Predicted')\n",
    "plt.ylabel('Actual')\n",
    "plt.show()"
   ]
  },
  {
   "cell_type": "code",
   "execution_count": null,
   "id": "b43c3275",
   "metadata": {
    "papermill": {
     "duration": 0.633638,
     "end_time": "2024-04-22T12:21:59.755246",
     "exception": false,
     "start_time": "2024-04-22T12:21:59.121608",
     "status": "completed"
    },
    "tags": []
   },
   "outputs": [],
   "source": [
    "import matplotlib.pyplot as plt\n",
    "from sklearn.metrics import roc_curve, auc\n",
    "\n",
    "# Assuming model2 is your trained classification model\n",
    "# Assuming x_test and y_test are your test features and labels, respectively\n",
    "\n",
    "# Calculate ROC curve\n",
    "fpr, tpr, thresholds = roc_curve(y_test, model2.predict_proba(x_test)[:, 1])\n",
    "\n",
    "# Calculate AUC\n",
    "roc_auc = auc(fpr, tpr)\n",
    "\n",
    "# Plot ROC curve\n",
    "plt.figure()\n",
    "plt.plot(fpr, tpr, color='darkorange', lw=2, label='ROC curve (area = %0.2f)' % roc_auc)\n",
    "plt.plot([0, 1], [0, 1], color='navy', lw=2, linestyle='--')\n",
    "plt.xlim([0.0, 1.0])\n",
    "plt.ylim([0.0, 1.05])\n",
    "plt.xlabel('False Positive Rate')\n",
    "plt.ylabel('True Positive Rate')\n",
    "plt.title('Receiver Operating Characteristic (ROC) Curve')\n",
    "plt.legend(loc=\"lower right\")\n",
    "plt.show()\n"
   ]
  },
  {
   "cell_type": "code",
   "execution_count": null,
   "id": "bc89ebff",
   "metadata": {
    "papermill": {
     "duration": 0.574333,
     "end_time": "2024-04-22T12:22:00.477034",
     "exception": false,
     "start_time": "2024-04-22T12:21:59.902701",
     "status": "completed"
    },
    "tags": []
   },
   "outputs": [],
   "source": [
    "feat_importances = model.feature_importances_\n",
    "\n",
    "# Create a pandas Series with feature importances\n",
    "feat_importances_series = pd.Series(feat_importances, index=df.columns[1:-1])\n",
    "\n",
    "# Sort feature importances in descending order\n",
    "feat_importances_series = feat_importances_series.sort_values(ascending=False)\n",
    "\n",
    "# Plot feature importances\n",
    "plt.figure(figsize=(10, 6))\n",
    "sns.barplot(x=feat_importances_series.values, y=feat_importances_series.index, palette='viridis')\n",
    "plt.xlabel('Feature Importance')\n",
    "plt.ylabel('Feature')\n",
    "plt.title('Feature Importance Plot')\n",
    "plt.show()"
   ]
  },
  {
   "cell_type": "code",
   "execution_count": null,
   "id": "3d910e94",
   "metadata": {
    "papermill": {
     "duration": 0.14847,
     "end_time": "2024-04-22T12:22:00.773611",
     "exception": false,
     "start_time": "2024-04-22T12:22:00.625141",
     "status": "completed"
    },
    "tags": []
   },
   "outputs": [],
   "source": [
    "# pip install pycaret\n"
   ]
  },
  {
   "cell_type": "code",
   "execution_count": null,
   "id": "7700b12f",
   "metadata": {
    "papermill": {
     "duration": 0.149024,
     "end_time": "2024-04-22T12:22:01.064813",
     "exception": false,
     "start_time": "2024-04-22T12:22:00.915789",
     "status": "completed"
    },
    "tags": []
   },
   "outputs": [],
   "source": [
    "# from pycaret.regression import *\n",
    "# from pycaret.classification import *"
   ]
  },
  {
   "cell_type": "code",
   "execution_count": null,
   "id": "d171acc6",
   "metadata": {
    "papermill": {
     "duration": 0.141,
     "end_time": "2024-04-22T12:22:01.347303",
     "exception": false,
     "start_time": "2024-04-22T12:22:01.206303",
     "status": "completed"
    },
    "tags": []
   },
   "outputs": [],
   "source": []
  }
 ],
 "metadata": {
  "kaggle": {
   "accelerator": "gpu",
   "dataSources": [
    {
     "datasetId": 426827,
     "sourceId": 1031720,
     "sourceType": "datasetVersion"
    }
   ],
   "dockerImageVersionId": 30683,
   "isGpuEnabled": true,
   "isInternetEnabled": true,
   "language": "python",
   "sourceType": "notebook"
  },
  "kernelspec": {
   "display_name": "Python 3 (ipykernel)",
   "language": "python",
   "name": "python3"
  },
  "language_info": {
   "codemirror_mode": {
    "name": "ipython",
    "version": 3
   },
   "file_extension": ".py",
   "mimetype": "text/x-python",
   "name": "python",
   "nbconvert_exporter": "python",
   "pygments_lexer": "ipython3",
   "version": "3.9.19"
  },
  "papermill": {
   "default_parameters": {},
   "duration": 210.791098,
   "end_time": "2024-04-22T12:22:02.209852",
   "environment_variables": {},
   "exception": null,
   "input_path": "__notebook__.ipynb",
   "output_path": "__notebook__.ipynb",
   "parameters": {},
   "start_time": "2024-04-22T12:18:31.418754",
   "version": "2.5.0"
  }
 },
 "nbformat": 4,
 "nbformat_minor": 5
}
